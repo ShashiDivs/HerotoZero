{
 "cells": [
  {
   "cell_type": "code",
   "execution_count": 9,
   "metadata": {},
   "outputs": [],
   "source": [
    "import pandas as pd\n",
    "import numpy as np\n",
    "import openpyxl"
   ]
  },
  {
   "cell_type": "code",
   "execution_count": 10,
   "metadata": {},
   "outputs": [],
   "source": [
    "df = pd.read_excel('Email Marketing Analysis.xlsx')"
   ]
  },
  {
   "cell_type": "code",
   "execution_count": 11,
   "metadata": {},
   "outputs": [
    {
     "data": {
      "text/html": [
       "<div>\n",
       "<style scoped>\n",
       "    .dataframe tbody tr th:only-of-type {\n",
       "        vertical-align: middle;\n",
       "    }\n",
       "\n",
       "    .dataframe tbody tr th {\n",
       "        vertical-align: top;\n",
       "    }\n",
       "\n",
       "    .dataframe thead th {\n",
       "        text-align: right;\n",
       "    }\n",
       "</style>\n",
       "<table border=\"1\" class=\"dataframe\">\n",
       "  <thead>\n",
       "    <tr style=\"text-align: right;\">\n",
       "      <th></th>\n",
       "      <th>Column1</th>\n",
       "      <th>Type</th>\n",
       "      <th>Status</th>\n",
       "      <th>City</th>\n",
       "      <th>State</th>\n",
       "      <th>PostalCode</th>\n",
       "      <th>GenderCode</th>\n",
       "      <th>BirthDate</th>\n",
       "      <th>MaritalStatus</th>\n",
       "      <th>Enrolled on</th>\n",
       "      <th>Living status</th>\n",
       "    </tr>\n",
       "  </thead>\n",
       "  <tbody>\n",
       "    <tr>\n",
       "      <th>0</th>\n",
       "      <td>00005DCC-4E51-41A5-91C5-6635B24C7D17</td>\n",
       "      <td>Business</td>\n",
       "      <td>InActive</td>\n",
       "      <td>NaN</td>\n",
       "      <td>NaN</td>\n",
       "      <td>500024.0</td>\n",
       "      <td>MALE</td>\n",
       "      <td>2018-08-12 17:07:12.430</td>\n",
       "      <td>U</td>\n",
       "      <td>2018-08-12 17:07:12.430</td>\n",
       "      <td>couple with children</td>\n",
       "    </tr>\n",
       "    <tr>\n",
       "      <th>1</th>\n",
       "      <td>0001F49E-9FE7-11e8-9E9C-00505682069A</td>\n",
       "      <td>Individual</td>\n",
       "      <td>Active</td>\n",
       "      <td>Valsad</td>\n",
       "      <td>GUJARAT</td>\n",
       "      <td>396001.0</td>\n",
       "      <td>MALE</td>\n",
       "      <td>1992-11-02 00:00:00.000</td>\n",
       "      <td>M</td>\n",
       "      <td>2018-08-14 18:02:46.000</td>\n",
       "      <td>couple with children</td>\n",
       "    </tr>\n",
       "    <tr>\n",
       "      <th>2</th>\n",
       "      <td>0001F4A2-9FE7-11e8-9E9C-00505682069A</td>\n",
       "      <td>Individual</td>\n",
       "      <td>Active</td>\n",
       "      <td>Secunderabad</td>\n",
       "      <td>TELANGANA</td>\n",
       "      <td>500011.0</td>\n",
       "      <td>FEMALE</td>\n",
       "      <td>1988-11-25 00:00:00.000</td>\n",
       "      <td>M</td>\n",
       "      <td>2018-08-14 18:05:23.000</td>\n",
       "      <td>couple with children</td>\n",
       "    </tr>\n",
       "    <tr>\n",
       "      <th>3</th>\n",
       "      <td>0001F4CD-9FE7-11e8-9E9C-00505682069A</td>\n",
       "      <td>Individual</td>\n",
       "      <td>Active</td>\n",
       "      <td>Nalgonda</td>\n",
       "      <td>TELANGANA</td>\n",
       "      <td>508101.0</td>\n",
       "      <td>MALE</td>\n",
       "      <td>1983-06-13 00:00:00.000</td>\n",
       "      <td>M</td>\n",
       "      <td>2018-08-14 18:37:33.000</td>\n",
       "      <td>couple with children</td>\n",
       "    </tr>\n",
       "    <tr>\n",
       "      <th>4</th>\n",
       "      <td>0001F4DE-9FE7-11e8-9E9C-00505682069A</td>\n",
       "      <td>Individual</td>\n",
       "      <td>Active</td>\n",
       "      <td>Hyderabad</td>\n",
       "      <td>TELANGANA</td>\n",
       "      <td>500028.0</td>\n",
       "      <td>MALE</td>\n",
       "      <td>1975-07-13 00:00:00.000</td>\n",
       "      <td>M</td>\n",
       "      <td>2018-08-14 18:47:00.000</td>\n",
       "      <td>couple with children</td>\n",
       "    </tr>\n",
       "  </tbody>\n",
       "</table>\n",
       "</div>"
      ],
      "text/plain": [
       "                                Column1        Type    Status          City  \\\n",
       "0  00005DCC-4E51-41A5-91C5-6635B24C7D17    Business  InActive           NaN   \n",
       "1  0001F49E-9FE7-11e8-9E9C-00505682069A  Individual    Active        Valsad   \n",
       "2  0001F4A2-9FE7-11e8-9E9C-00505682069A  Individual    Active  Secunderabad   \n",
       "3  0001F4CD-9FE7-11e8-9E9C-00505682069A  Individual    Active      Nalgonda   \n",
       "4  0001F4DE-9FE7-11e8-9E9C-00505682069A  Individual    Active     Hyderabad   \n",
       "\n",
       "       State  PostalCode GenderCode               BirthDate MaritalStatus  \\\n",
       "0        NaN    500024.0       MALE 2018-08-12 17:07:12.430             U   \n",
       "1    GUJARAT    396001.0       MALE 1992-11-02 00:00:00.000             M   \n",
       "2  TELANGANA    500011.0     FEMALE 1988-11-25 00:00:00.000             M   \n",
       "3  TELANGANA    508101.0       MALE 1983-06-13 00:00:00.000             M   \n",
       "4  TELANGANA    500028.0       MALE 1975-07-13 00:00:00.000             M   \n",
       "\n",
       "             Enrolled on          Living status  \n",
       "0 2018-08-12 17:07:12.430  couple with children  \n",
       "1 2018-08-14 18:02:46.000  couple with children  \n",
       "2 2018-08-14 18:05:23.000  couple with children  \n",
       "3 2018-08-14 18:37:33.000  couple with children  \n",
       "4 2018-08-14 18:47:00.000  couple with children  "
      ]
     },
     "execution_count": 11,
     "metadata": {},
     "output_type": "execute_result"
    }
   ],
   "source": [
    "df.head()"
   ]
  },
  {
   "cell_type": "code",
   "execution_count": 12,
   "metadata": {},
   "outputs": [
    {
     "data": {
      "text/plain": [
       "Individual    9736\n",
       "Business       264\n",
       "Name: Type, dtype: int64"
      ]
     },
     "execution_count": 12,
     "metadata": {},
     "output_type": "execute_result"
    }
   ],
   "source": [
    "df['Type'].value_counts()"
   ]
  },
  {
   "cell_type": "code",
   "execution_count": 7,
   "metadata": {},
   "outputs": [
    {
     "name": "stdout",
     "output_type": "stream",
     "text": [
      "<class 'pandas.core.frame.DataFrame'>\n",
      "RangeIndex: 10000 entries, 0 to 9999\n",
      "Data columns (total 11 columns):\n",
      " #   Column         Non-Null Count  Dtype         \n",
      "---  ------         --------------  -----         \n",
      " 0   Column1        10000 non-null  object        \n",
      " 1   Type           10000 non-null  object        \n",
      " 2   Status         10000 non-null  object        \n",
      " 3   City           9927 non-null   object        \n",
      " 4   State          9874 non-null   object        \n",
      " 5   PostalCode     9999 non-null   float64       \n",
      " 6   GenderCode     10000 non-null  object        \n",
      " 7   BirthDate      10000 non-null  datetime64[ns]\n",
      " 8   MaritalStatus  10000 non-null  object        \n",
      " 9   Enrolled on    10000 non-null  datetime64[ns]\n",
      " 10  Living status  10000 non-null  object        \n",
      "dtypes: datetime64[ns](2), float64(1), object(8)\n",
      "memory usage: 859.5+ KB\n"
     ]
    }
   ],
   "source": [
    "df.info()"
   ]
  },
  {
   "cell_type": "code",
   "execution_count": 15,
   "metadata": {},
   "outputs": [],
   "source": [
    "df.drop(['Column1','PostalCode','BirthDate'],axis=1,inplace=True)"
   ]
  },
  {
   "cell_type": "code",
   "execution_count": 17,
   "metadata": {},
   "outputs": [
    {
     "data": {
      "text/html": [
       "<div>\n",
       "<style scoped>\n",
       "    .dataframe tbody tr th:only-of-type {\n",
       "        vertical-align: middle;\n",
       "    }\n",
       "\n",
       "    .dataframe tbody tr th {\n",
       "        vertical-align: top;\n",
       "    }\n",
       "\n",
       "    .dataframe thead th {\n",
       "        text-align: right;\n",
       "    }\n",
       "</style>\n",
       "<table border=\"1\" class=\"dataframe\">\n",
       "  <thead>\n",
       "    <tr style=\"text-align: right;\">\n",
       "      <th></th>\n",
       "      <th>Type</th>\n",
       "      <th>Status</th>\n",
       "      <th>City</th>\n",
       "      <th>State</th>\n",
       "      <th>GenderCode</th>\n",
       "      <th>MaritalStatus</th>\n",
       "      <th>Enrolled on</th>\n",
       "      <th>Living status</th>\n",
       "    </tr>\n",
       "  </thead>\n",
       "  <tbody>\n",
       "    <tr>\n",
       "      <th>0</th>\n",
       "      <td>Business</td>\n",
       "      <td>InActive</td>\n",
       "      <td>NaN</td>\n",
       "      <td>NaN</td>\n",
       "      <td>MALE</td>\n",
       "      <td>U</td>\n",
       "      <td>2018-08-12 17:07:12.430</td>\n",
       "      <td>couple with children</td>\n",
       "    </tr>\n",
       "    <tr>\n",
       "      <th>1</th>\n",
       "      <td>Individual</td>\n",
       "      <td>Active</td>\n",
       "      <td>Valsad</td>\n",
       "      <td>GUJARAT</td>\n",
       "      <td>MALE</td>\n",
       "      <td>M</td>\n",
       "      <td>2018-08-14 18:02:46.000</td>\n",
       "      <td>couple with children</td>\n",
       "    </tr>\n",
       "    <tr>\n",
       "      <th>2</th>\n",
       "      <td>Individual</td>\n",
       "      <td>Active</td>\n",
       "      <td>Secunderabad</td>\n",
       "      <td>TELANGANA</td>\n",
       "      <td>FEMALE</td>\n",
       "      <td>M</td>\n",
       "      <td>2018-08-14 18:05:23.000</td>\n",
       "      <td>couple with children</td>\n",
       "    </tr>\n",
       "    <tr>\n",
       "      <th>3</th>\n",
       "      <td>Individual</td>\n",
       "      <td>Active</td>\n",
       "      <td>Nalgonda</td>\n",
       "      <td>TELANGANA</td>\n",
       "      <td>MALE</td>\n",
       "      <td>M</td>\n",
       "      <td>2018-08-14 18:37:33.000</td>\n",
       "      <td>couple with children</td>\n",
       "    </tr>\n",
       "    <tr>\n",
       "      <th>4</th>\n",
       "      <td>Individual</td>\n",
       "      <td>Active</td>\n",
       "      <td>Hyderabad</td>\n",
       "      <td>TELANGANA</td>\n",
       "      <td>MALE</td>\n",
       "      <td>M</td>\n",
       "      <td>2018-08-14 18:47:00.000</td>\n",
       "      <td>couple with children</td>\n",
       "    </tr>\n",
       "  </tbody>\n",
       "</table>\n",
       "</div>"
      ],
      "text/plain": [
       "         Type    Status          City      State GenderCode MaritalStatus  \\\n",
       "0    Business  InActive           NaN        NaN       MALE             U   \n",
       "1  Individual    Active        Valsad    GUJARAT       MALE             M   \n",
       "2  Individual    Active  Secunderabad  TELANGANA     FEMALE             M   \n",
       "3  Individual    Active      Nalgonda  TELANGANA       MALE             M   \n",
       "4  Individual    Active     Hyderabad  TELANGANA       MALE             M   \n",
       "\n",
       "             Enrolled on          Living status  \n",
       "0 2018-08-12 17:07:12.430  couple with children  \n",
       "1 2018-08-14 18:02:46.000  couple with children  \n",
       "2 2018-08-14 18:05:23.000  couple with children  \n",
       "3 2018-08-14 18:37:33.000  couple with children  \n",
       "4 2018-08-14 18:47:00.000  couple with children  "
      ]
     },
     "execution_count": 17,
     "metadata": {},
     "output_type": "execute_result"
    }
   ],
   "source": [
    "df.head()"
   ]
  },
  {
   "cell_type": "code",
   "execution_count": null,
   "metadata": {},
   "outputs": [],
   "source": []
  },
  {
   "cell_type": "code",
   "execution_count": null,
   "metadata": {},
   "outputs": [],
   "source": []
  }
 ],
 "metadata": {
  "kernelspec": {
   "display_name": "Python 3.8.10 64-bit",
   "language": "python",
   "name": "python3"
  },
  "language_info": {
   "codemirror_mode": {
    "name": "ipython",
    "version": 3
   },
   "file_extension": ".py",
   "mimetype": "text/x-python",
   "name": "python",
   "nbconvert_exporter": "python",
   "pygments_lexer": "ipython3",
   "version": "3.8.10"
  },
  "orig_nbformat": 4,
  "vscode": {
   "interpreter": {
    "hash": "e7370f93d1d0cde622a1f8e1c04877d8463912d04d973331ad4851f04de6915a"
   }
  }
 },
 "nbformat": 4,
 "nbformat_minor": 2
}
